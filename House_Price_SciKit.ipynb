{
  "nbformat": 4,
  "nbformat_minor": 0,
  "metadata": {
    "colab": {
      "provenance": [],
      "authorship_tag": "ABX9TyP+AeeGNFykziApeZK6WbAu",
      "include_colab_link": true
    },
    "kernelspec": {
      "name": "python3",
      "display_name": "Python 3"
    },
    "language_info": {
      "name": "python"
    }
  },
  "cells": [
    {
      "cell_type": "markdown",
      "metadata": {
        "id": "view-in-github",
        "colab_type": "text"
      },
      "source": [
        "<a href=\"https://colab.research.google.com/github/Sanan-Qureshi/House_Price_SciKit/blob/main/House_Price_SciKit.ipynb\" target=\"_parent\"><img src=\"https://colab.research.google.com/assets/colab-badge.svg\" alt=\"Open In Colab\"/></a>"
      ]
    },
    {
      "cell_type": "code",
      "execution_count": null,
      "metadata": {
        "id": "AH5aiynNVjtb"
      },
      "outputs": [],
      "source": [
        "import numpy as np\n",
        "import pandas as pd\n",
        "import matplotlib.pyplot as plt\n",
        "from sklearn.model_selection import train_test_split\n",
        "from sklearn.preprocessing import StandardScaler\n",
        "from sklearn.linear_model import LinearRegression\n",
        "from sklearn.metrics import mean_squared_error, r2_score\n"
      ]
    },
    {
      "cell_type": "code",
      "source": [
        "# Define column names\n",
        "column_names = ['size(sqft)', 'bedrooms', 'floors', 'age', 'price']\n",
        "\n",
        "# Load dataset\n",
        "df = pd.read_csv('/content/houses.txt', names=column_names)\n",
        "\n",
        "# Display first few rows\n",
        "print(df.head())\n"
      ],
      "metadata": {
        "id": "5wsz-mXgVmE7",
        "colab": {
          "base_uri": "https://localhost:8080/"
        },
        "outputId": "ae00430e-e692-4c08-b61a-3ae293628033"
      },
      "execution_count": null,
      "outputs": [
        {
          "output_type": "stream",
          "name": "stdout",
          "text": [
            "   size(sqft)  bedrooms  floors   age  price\n",
            "0       952.0       2.0     1.0  65.0  271.5\n",
            "1      1244.0       3.0     1.0  64.0  300.0\n",
            "2      1947.0       3.0     2.0  17.0  509.8\n",
            "3      1725.0       3.0     2.0  42.0  394.0\n",
            "4      1959.0       3.0     2.0  15.0  540.0\n"
          ]
        }
      ]
    },
    {
      "cell_type": "code",
      "source": [
        "# Define X (features) and y (target variable)\n",
        "X = df[['size(sqft)', 'bedrooms', 'floors', 'age']].values\n",
        "y = df['price'].values\n",
        "\n",
        "# Split data (80% training, 20% testing)\n",
        "X_train, X_test, y_train, y_test = train_test_split(X, y, test_size=0.2, random_state=42)\n",
        "\n",
        "print(f\"Training samples: {X_train.shape[0]}, Testing samples: {X_test.shape[0]}\")\n"
      ],
      "metadata": {
        "colab": {
          "base_uri": "https://localhost:8080/"
        },
        "id": "14eGQ08sWfTt",
        "outputId": "f705cc4b-8f37-4ee4-9bc1-0d8780a74f4e"
      },
      "execution_count": null,
      "outputs": [
        {
          "output_type": "stream",
          "name": "stdout",
          "text": [
            "Training samples: 80, Testing samples: 20\n"
          ]
        }
      ]
    },
    {
      "cell_type": "code",
      "source": [
        "# Initialise StandardScaler\n",
        "scaler = StandardScaler()\n",
        "\n",
        "# Fit and transform training data\n",
        "X_train_scaled = scaler.fit_transform(X_train)\n",
        "\n",
        "# Transform test data using the same scaler\n",
        "X_test_scaled = scaler.transform(X_test)\n",
        "\n",
        "# Print first 5 rows after normalisation\n",
        "print(\"First 5 rows of normalised training data:\\n\", X_train_scaled[:5])\n"
      ],
      "metadata": {
        "colab": {
          "base_uri": "https://localhost:8080/"
        },
        "id": "EJgzhNW5WjGS",
        "outputId": "647c82bf-497f-43f6-f064-2727a1d5ca65"
      },
      "execution_count": null,
      "outputs": [
        {
          "output_type": "stream",
          "name": "stdout",
          "text": [
            "First 5 rows of normalised training data:\n",
            " [[-0.49679154 -1.05263331 -0.73379939 -0.99433601]\n",
            " [-0.89835998  0.3992747  -0.73379939  0.88935925]\n",
            " [-0.98441035 -1.05263331 -0.73379939  0.45767908]\n",
            " [ 0.88001451  1.85118272  1.36277029  2.65532356]\n",
            " [ 0.03624275  0.3992747  -0.73379939  0.77162829]]\n"
          ]
        }
      ]
    },
    {
      "cell_type": "code",
      "source": [
        "# Initialise and fit Linear Regression model\n",
        "model = LinearRegression()\n",
        "model.fit(X_train_scaled, y_train)\n",
        "\n",
        "# Extract learned parameters\n",
        "w_final = model.coef_  # Coefficients (weights)\n",
        "b_final = model.intercept_  # Bias (intercept)\n",
        "\n",
        "print(\"Learned Weights (w):\", w_final)\n",
        "print(\"Learned Bias (b):\", b_final)\n"
      ],
      "metadata": {
        "colab": {
          "base_uri": "https://localhost:8080/"
        },
        "id": "KZ61MmiEWmi0",
        "outputId": "36d81424-08e1-453d-eed8-703e6ac2a706"
      },
      "execution_count": null,
      "outputs": [
        {
          "output_type": "stream",
          "name": "stdout",
          "text": [
            "Learned Weights (w): [114.36404007 -23.41332405 -34.411935   -36.43679427]\n",
            "Learned Bias (b): 362.862125\n"
          ]
        }
      ]
    },
    {
      "cell_type": "code",
      "source": [
        "# Predict prices using the test dataset\n",
        "y_pred = model.predict(X_test_scaled)\n",
        "\n",
        "# Print first few predictions\n",
        "print(\"First 5 predicted prices:\", y_pred[:5])\n",
        "print(\"First 5 actual prices:\", y_test[:5])\n"
      ],
      "metadata": {
        "colab": {
          "base_uri": "https://localhost:8080/"
        },
        "id": "MzxmJZ1nWpUd",
        "outputId": "bf4ac820-06b9-4fe1-8a5a-e8b30604b718"
      },
      "execution_count": null,
      "outputs": [
        {
          "output_type": "stream",
          "name": "stdout",
          "text": [
            "First 5 predicted prices: [335.36490213 309.24839969 509.98077803 486.82917196 449.35761786]\n",
            "First 5 actual prices: [350.  290.  480.  504.  425.8]\n"
          ]
        }
      ]
    },
    {
      "cell_type": "code",
      "source": [
        "mse = mean_squared_error(y_test, y_pred)\n",
        "rmse = np.sqrt(mse)\n",
        "print(f\"Mean Squared Error (MSE): {mse:.2f}\")\n",
        "print(f\"Root Mean Squared Error (RMSE): {rmse:.2f}\")\n"
      ],
      "metadata": {
        "colab": {
          "base_uri": "https://localhost:8080/"
        },
        "id": "U5DEN3HQWrW0",
        "outputId": "75309718-a3ba-4371-85a9-c711a680b251"
      },
      "execution_count": null,
      "outputs": [
        {
          "output_type": "stream",
          "name": "stdout",
          "text": [
            "Mean Squared Error (MSE): 585.59\n",
            "Root Mean Squared Error (RMSE): 24.20\n"
          ]
        }
      ]
    },
    {
      "cell_type": "code",
      "source": [
        "r2 = r2_score(y_test, y_pred)\n",
        "print(f\"R² Score: {r2:.4f}\")\n"
      ],
      "metadata": {
        "colab": {
          "base_uri": "https://localhost:8080/"
        },
        "id": "Z1o8tV_RWta8",
        "outputId": "12ed65c0-8441-4ab3-e028-226a279f8094"
      },
      "execution_count": null,
      "outputs": [
        {
          "output_type": "stream",
          "name": "stdout",
          "text": [
            "R² Score: 0.9527\n"
          ]
        }
      ]
    },
    {
      "cell_type": "code",
      "source": [
        "plt.scatter(y_test, y_pred, color='blue', alpha=0.6)\n",
        "plt.plot([min(y_test), max(y_test)], [min(y_test), max(y_test)], color='red', linestyle='dashed')  # Perfect fit line\n",
        "plt.xlabel(\"Actual Prices\")\n",
        "plt.ylabel(\"Predicted Prices\")\n",
        "plt.title(\"Actual vs Predicted House Prices\")\n",
        "plt.show()\n"
      ],
      "metadata": {
        "colab": {
          "base_uri": "https://localhost:8080/",
          "height": 472
        },
        "id": "PSnEQMH_WwPP",
        "outputId": "e32d973a-fae6-446b-8f1e-5d83579c187f"
      },
      "execution_count": null,
      "outputs": [
        {
          "output_type": "display_data",
          "data": {
            "text/plain": [
              "<Figure size 640x480 with 1 Axes>"
            ],
            "image/png": "[encoded data removed]"
          },
          "metadata": {}
        }
      ]
    },
    {
      "cell_type": "code",
      "source": [
        "# Define new house details\n",
        "new_house = np.array([[2500, 3, 2, 20]])\n",
        "\n",
        "# Standardise the new house data using the same scaler\n",
        "new_house_scaled = scaler.transform(new_house)\n",
        "\n",
        "# Predict price\n",
        "predicted_price = model.predict(new_house_scaled)\n",
        "print(f\"Predicted Price for new house: ${predicted_price[0]:.2f}\")\n"
      ],
      "metadata": {
        "colab": {
          "base_uri": "https://localhost:8080/"
        },
        "id": "SsJpab2MWydo",
        "outputId": "925e888f-0fde-4a2a-cee6-61f0ea7213c5"
      },
      "execution_count": null,
      "outputs": [
        {
          "output_type": "stream",
          "name": "stdout",
          "text": [
            "Predicted Price for new house: $630.64\n"
          ]
        }
      ]
    },
    {
      "cell_type": "code",
      "source": [],
      "metadata": {
        "id": "9HFdRTHeW2N2"
      },
      "execution_count": null,
      "outputs": []
    }
  ]
}